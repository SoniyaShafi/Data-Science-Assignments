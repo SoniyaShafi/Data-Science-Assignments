{
 "cells": [
  {
   "cell_type": "code",
   "execution_count": 13,
   "id": "7012970e",
   "metadata": {},
   "outputs": [
    {
     "name": "stdout",
     "output_type": "stream",
     "text": [
      "Twinkle,twinkle,little star,\n",
      "        How I wonder what you are!\n",
      "                Up above the world so high,\n",
      "                Like a diamond in the sky.\n",
      "Twinkle,twinkle,little star,\n",
      "        How I wonder what you are\n"
     ]
    }
   ],
   "source": [
    "print('''Twinkle,twinkle,little star,\n",
    "        How I wonder what you are!\n",
    "                Up above the world so high,\n",
    "                Like a diamond in the sky.\n",
    "Twinkle,twinkle,little star,\n",
    "        How I wonder what you are''')\n",
    "\n",
    "              "
   ]
  },
  {
   "cell_type": "code",
   "execution_count": 22,
   "id": "de325921",
   "metadata": {},
   "outputs": [
    {
     "data": {
      "text/plain": [
       "'3.9.7'"
      ]
     },
     "execution_count": 22,
     "metadata": {},
     "output_type": "execute_result"
    }
   ],
   "source": [
    "from platform import python_version\n",
    "python_version() "
   ]
  },
  {
   "cell_type": "code",
   "execution_count": 25,
   "id": "65beeb78",
   "metadata": {
    "scrolled": true
   },
   "outputs": [
    {
     "name": "stdout",
     "output_type": "stream",
     "text": [
      "Current Date and Time is :  2021-12-31 13:56:27.224831\n"
     ]
    }
   ],
   "source": [
    "import datetime\n",
    "timedate=datetime.datetime.now()\n",
    "print(\"Current Date and Time is : \",timedate)"
   ]
  },
  {
   "cell_type": "code",
   "execution_count": 28,
   "id": "b52aaca0",
   "metadata": {},
   "outputs": [
    {
     "name": "stdout",
     "output_type": "stream",
     "text": [
      "Enter radius to calculate Area: 5\n",
      "AREA = 78.55\n"
     ]
    }
   ],
   "source": [
    "radius=int(input(\"Enter radius to calculate Area: \"))\n",
    "print(\"AREA =\",(3.142*(radius**2)))"
   ]
  },
  {
   "cell_type": "code",
   "execution_count": 30,
   "id": "77a56528",
   "metadata": {},
   "outputs": [
    {
     "name": "stdout",
     "output_type": "stream",
     "text": [
      "Enter your first namesoniya\n",
      "Enter your last nameshafi\n",
      "shafi  soniya\n"
     ]
    }
   ],
   "source": [
    "first_name=input(\"Enter your first name\")\n",
    "last_name=input(\"Enter your last name\")\n",
    "print(last_name,\"\",first_name)"
   ]
  },
  {
   "cell_type": "code",
   "execution_count": 31,
   "id": "8454be43",
   "metadata": {},
   "outputs": [
    {
     "name": "stdout",
     "output_type": "stream",
     "text": [
      "Enter first number25\n",
      "Enter second number39\n",
      "Sum is :  64\n"
     ]
    }
   ],
   "source": [
    "a=int(input(\"Enter first number\"))\n",
    "b=int(input(\"Enter second number\"))\n",
    "print(\"Sum is : \",(a+b))"
   ]
  }
 ],
 "metadata": {
  "kernelspec": {
   "display_name": "Python 3 (ipykernel)",
   "language": "python",
   "name": "python3"
  },
  "language_info": {
   "codemirror_mode": {
    "name": "ipython",
    "version": 3
   },
   "file_extension": ".py",
   "mimetype": "text/x-python",
   "name": "python",
   "nbconvert_exporter": "python",
   "pygments_lexer": "ipython3",
   "version": "3.9.7"
  }
 },
 "nbformat": 4,
 "nbformat_minor": 5
}
